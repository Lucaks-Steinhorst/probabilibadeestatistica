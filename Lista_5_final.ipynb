{
  "nbformat": 4,
  "nbformat_minor": 0,
  "metadata": {
    "colab": {
      "name": "Lista_5.ipynb",
      "provenance": [],
      "collapsed_sections": [],
      "authorship_tag": "ABX9TyPjJFnUqQvWs1uSEjHPSk+F",
      "include_colab_link": true
    },
    "kernelspec": {
      "name": "python3",
      "display_name": "Python 3"
    }
  },
  "cells": [
    {
      "cell_type": "markdown",
      "metadata": {
        "id": "view-in-github",
        "colab_type": "text"
      },
      "source": [
        "<a href=\"https://colab.research.google.com/github/Lucaks-Steinhorst/probabilibadeestatistica/blob/master/Lista_5_final.ipynb\" target=\"_parent\"><img src=\"https://colab.research.google.com/assets/colab-badge.svg\" alt=\"Open In Colab\"/></a>"
      ]
    },
    {
      "cell_type": "code",
      "metadata": {
        "id": "UTfo5V--xidt"
      },
      "source": [
        "# Disciplina: Probabilidade e Estatística\n",
        "# Aluno: Lucas Steinhorst\n",
        "# Lista 5\n",
        "\n",
        "#Fiz os exercícios separados por blocos para melhor avaliação\n",
        "\n",
        "# Ex 1:\n",
        "#Escreva em python uma lista com os valores mostrados acima e calcule:\n",
        "#a) Média aritmética simples;\n",
        "#b) Média harmônica;\n",
        "#c) Média geométrica;\n",
        "#d) Moda;\n",
        "#e) Variância;\n",
        "#f) Desvio padrão.\n",
        "\n",
        "import statistics\n",
        "from scipy.stats.mstats import gmean #chamadas das bibliotecas\n",
        "Lista = [10,13,17,9,8,11,13,7]\n",
        "\n",
        "MediaSimples = statistics.mean(Lista) #médias\n",
        "print('A média simples é:', MediaSimples)\n",
        "MediaHarmonica = statistics.harmonic_mean(Lista)\n",
        "print('A média harmonica é:', round(MediaHarmonica,2))\n",
        "MediaGeometrica = gmean(Lista)\n",
        "print('A média geométrica é:', round(MediaGeometrica,2))\n",
        "Moda = statistics.mode(Lista) #moda\n",
        "print('A Moda de é:', Moda)\n",
        "Variancia = statistics.variance(Lista) #variancia\n",
        "print('A variancia é:', round(Variancia,2))\n",
        "DesvioPadrao = statistics.stdev(Lista) #desvio padrao\n",
        "print('O Desvio Padrão é:', round(DesvioPadrao,2)) \n"
      ],
      "execution_count": null,
      "outputs": []
    },
    {
      "cell_type": "code",
      "metadata": {
        "id": "3SgA2xgqs4-Z"
      },
      "source": [
        "# Ex 2:\n",
        "#Escreva em python uma lista com os valores mostrados acima e calcule:\n",
        "#a) Média aritmética simples, harmônica e geométrica\n",
        "#b) Moda;\n",
        "#c) Mediana;\n",
        "#d) Variância;\n",
        "#e) Desvio padrão;\n",
        "\n",
        "import statistics\n",
        "from scipy.stats.mstats import gmean #chamadas das bibliotecas\n",
        "Lista = [67,75,63,72,77,78,81,77,80]\n",
        "\n",
        "MediaSimples = statistics.mean(Lista) #médias\n",
        "print('A média simples é:', round(MediaSimples,2))\n",
        "MediaHarmonica = statistics.harmonic_mean(Lista)\n",
        "print('A média harmonica é:', round(MediaHarmonica,2))\n",
        "MediaGeometrica = gmean(Lista)\n",
        "print('A média geométrica é:', round(MediaGeometrica,2))\n",
        "Moda = statistics.mode(Lista) #moda\n",
        "print('A Moda de é:', Moda)\n",
        "Mediana = statistics.median(Lista) #mediana\n",
        "print('A Mediana é:', Mediana)\n",
        "Variancia = statistics.variance(Lista) #variancia\n",
        "print('A variancia é:', round(Variancia,2))\n",
        "DesvioPadrao = statistics.stdev(Lista) #desvio padrao\n",
        "print('O Desvio Padrão é:', round(DesvioPadrao,2)) "
      ],
      "execution_count": null,
      "outputs": []
    },
    {
      "cell_type": "code",
      "metadata": {
        "colab": {
          "base_uri": "https://localhost:8080/"
        },
        "id": "pjes8Xs0tVj8",
        "outputId": "407a81d1-7c75-4131-e606-eac12734964e"
      },
      "source": [
        "# Ex 3:\n",
        "#Os dados em rol relacionados a seguir referem-se a produção diária de leite de \n",
        "#vacas da raça Holandesa obtida em duas ordenhas, em kg.\n",
        "\n",
        "import statistics\n",
        "from scipy.stats.mstats import gmean #chamadas das bibliotecas\n",
        "Lista = [4.0, 4.5, 5.0, 5.0, 5.0, 5.5, 6.0, 6.0, 6.5, 6.5, 6.5,\n",
        "6.5, 7.0, 7.0, 7.0, 7.0, 7.0, 7.0, 7.5, 8.5, 9.0, 9.0,\n",
        "9.0, 9.5, 10.0, 10.0, 10.5, 10.5, 11.0, 12.0, 12.5, 13.0, 13.0]\n",
        "\n",
        "MediaSimples = statistics.mean(Lista) #média\n",
        "DesvioPadrao = statistics.stdev(Lista) #desvio padrao\n",
        "CoefVar = DesvioPadrao/MediaSimples #coeficiente de variação\n",
        "print('O Coeficiente de Variação é', round(CoefVar,2))"
      ],
      "execution_count": 12,
      "outputs": [
        {
          "output_type": "stream",
          "text": [
            "O Coeficiente de Variação é 0.32\n"
          ],
          "name": "stdout"
        }
      ]
    },
    {
      "cell_type": "code",
      "metadata": {
        "id": "76vkUv5otXbR"
      },
      "source": [
        "# Ex 4:\n",
        "#A tabela seguinte apresenta a produção de café, em milhões de toneladas, \n",
        "#na região DELTA.\n",
        "#(a) Calcule o valor da produção média.\n",
        "#(b) Calcule o valor da mediana da produção.\n",
        "#(c) Calcule o valor do desvio padrão da produção.\n",
        "\n",
        "import statistics\n",
        "from scipy.stats.mstats import gmean #chamadas das bibliotecas\n",
        "Lista = [12,15,18,22,17,14,18,23,29,12]\n",
        "\n",
        "MediaSimples = statistics.mean(Lista) #médias\n",
        "print('A média simples é:', round(MediaSimples,2))\n",
        "Mediana = statistics.median(Lista) #mediana\n",
        "print('A Mediana é:', Mediana)\n",
        "DesvioPadrao = statistics.stdev(Lista) #desvio padrao\n",
        "print('O Desvio Padrão é:', round(DesvioPadrao,2))"
      ],
      "execution_count": null,
      "outputs": []
    },
    {
      "cell_type": "code",
      "metadata": {
        "colab": {
          "base_uri": "https://localhost:8080/"
        },
        "id": "3LU9gb3rtYKK",
        "outputId": "43699195-4782-4368-e47f-33102dc072b7"
      },
      "source": [
        "# Ex 5:\n",
        "#Escreva em Python um algoritmo que solicite para o usuário inserir\n",
        "#notas de alunos entre 0 e 10 em um loop infinito com condição de\n",
        "#parada uma nota igual a -999. A cada iteração valide que a nota seja\n",
        "#entre 0 e 10 e solicite uma nota correta em caso de erro.\n",
        "#Após obter todas as notas, o programa deve mostrar:\n",
        "#a) Média aritmética simples;\n",
        "#b) Média harmônica;\n",
        "#c) Média geométrica;\n",
        "#d) Moda;\n",
        "#e) Variância;\n",
        "#f) Desvio padrão;\n",
        "#g) Coeficiente de variância.\n",
        "\n",
        "import statistics\n",
        "from scipy.stats.mstats import gmean #chamadas das bibliotecas\n",
        "Lista = []\n",
        "notasAlunos = float(input('Insira notas de alunos entre 0 e 10, para parar digite -999: '))\n",
        "\n",
        "while notasAlunos != -999:\n",
        "  if notasAlunos >= 0 and notasAlunos <= 10:\n",
        "    Lista.append(notasAlunos)\n",
        "    notasAlunos = float(input('Insira notas de alunos entre 0 e 10, para parar digite -999: '))\n",
        "  else :\n",
        "    notasAlunos = float(input('Nota inválida, insira uma nota entre 0 e 10: '))\n",
        "\n",
        "try :    #filtro caso a pessoa digite -999 direto \n",
        "  notasAlunos != -999\n",
        "\n",
        "  MediaSimples = statistics.mean(Lista) #médias\n",
        "  print('A média simples é:', round(MediaSimples,2))\n",
        "  MediaHarmonica = statistics.harmonic_mean(Lista)\n",
        "  print('A média harmonica é:', round(MediaHarmonica,2))\n",
        "  MediaGeometrica = gmean(Lista)\n",
        "  print('A média geométrica é:', round(MediaGeometrica,2))\n",
        "  try:       #tratamento de erro\n",
        "    Moda = statistics.mode(Lista) #moda\n",
        "    print('A Moda é:', Moda)\n",
        "  except:\n",
        "    print('Não tem moda')\n",
        "  Variancia = statistics.variance(Lista) #variancia\n",
        "  print('A variancia é:', round(Variancia,2))\n",
        "  DesvioPadrao = statistics.stdev(Lista) #desvio padrao\n",
        "  print('O Desvio Padrão é:', round(DesvioPadrao,2))\n",
        "  CoefVar = DesvioPadrao/MediaSimples #coeficiente de variação\n",
        "  print('O Coeficiente de Variação é', round(CoefVar,3))\n",
        "\n",
        "except:\n",
        "  print('Voce digitou nenhuma nota válida')  "
      ],
      "execution_count": 14,
      "outputs": [
        {
          "output_type": "stream",
          "text": [
            "Insira notas de alunos entre 0 e 10, para parar digite -999: 10\n",
            "Insira notas de alunos entre 0 e 10, para parar digite -999: 10\n",
            "Insira notas de alunos entre 0 e 10, para parar digite -999: 10\n",
            "Insira notas de alunos entre 0 e 10, para parar digite -999: 10\n",
            "Insira notas de alunos entre 0 e 10, para parar digite -999: 10\n",
            "Insira notas de alunos entre 0 e 10, para parar digite -999: 1\n",
            "Insira notas de alunos entre 0 e 10, para parar digite -999: -999\n",
            "A média simples é: 8.5\n",
            "A média harmonica é: 4.0\n",
            "A média geométrica é: 6.81\n",
            "A Moda é: 10.0\n",
            "A variancia é: 13.5\n",
            "O Desvio Padrão é: 3.67\n",
            "O Coeficiente de Variação é 0.432\n"
          ],
          "name": "stdout"
        }
      ]
    },
    {
      "cell_type": "code",
      "metadata": {
        "colab": {
          "base_uri": "https://localhost:8080/"
        },
        "id": "J0QXom_kt0Zd",
        "outputId": "0a4c4474-16d2-495d-9b96-4fa37abe5a53"
      },
      "source": [
        "# Ex 6\n",
        "#Escreva em Python um algoritmo que solicite para o usuário inserir 3\n",
        "#notas de um aluno (entre 0 e 10)\n",
        "#O programa deve calcular a média ponderada com os pesos 3, 4 e 3\n",
        "#para as 3 notas recebidas.\n",
        "\n",
        "num = float(input('Digite o valor da primeira nota : ')) \n",
        "num2 = float(input('Digite o valor da segunda nota : '))\n",
        "num3 = float(input('Digite o valor da terceira nota : '))\n",
        "soma = 10 \n",
        "while True:\n",
        "  if num >= 0 and num <= 10 and num2 >= 0 and num2 <= 10 and num3 >= 0 and num3 <= 10: \n",
        "    nota = ((num * 3) + (num2 * 4) + (num3 * 3)) / soma #média ponderada\n",
        "    print('A média ponderada é:',nota)\n",
        "    break\n",
        "  else :\n",
        "    print('Por favor, digite uma nota válida (entre 0 e 10)!')\n",
        "    num = float(input('Digite novamente o valor da primeira nota : ')) \n",
        "    num2 = float(input('Digite novamente o valor da segunda nota : '))\n",
        "    num3 = float(input('Digite novamente o valor da terceira nota : '))"
      ],
      "execution_count": 8,
      "outputs": [
        {
          "output_type": "stream",
          "text": [
            "Digite o valor da primeira nota : 12\n",
            "Digite o valor da segunda nota : 0\n",
            "Digite o valor da terceira nota : 0\n",
            "Por favor, digite uma nota válida (entre 0 e 10)!\n",
            "Digite novamente o valor da primeira nota : 1\n",
            "Digite novamente o valor da segunda nota : 1\n",
            "Digite novamente o valor da terceira nota : 10\n",
            "A média ponderada é: 3.7\n"
          ],
          "name": "stdout"
        }
      ]
    }
  ]
}