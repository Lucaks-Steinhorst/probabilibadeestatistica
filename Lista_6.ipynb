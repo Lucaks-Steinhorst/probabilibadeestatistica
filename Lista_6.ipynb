{
  "nbformat": 4,
  "nbformat_minor": 0,
  "metadata": {
    "colab": {
      "name": "Lista 6.ipynb",
      "provenance": [],
      "collapsed_sections": [],
      "authorship_tag": "ABX9TyOVCOv3umLplXJL6lOAqotP",
      "include_colab_link": true
    },
    "kernelspec": {
      "name": "python3",
      "display_name": "Python 3"
    }
  },
  "cells": [
    {
      "cell_type": "markdown",
      "metadata": {
        "id": "view-in-github",
        "colab_type": "text"
      },
      "source": [
        "<a href=\"https://colab.research.google.com/github/Lucaks-Steinhorst/probabilibadeestatistica/blob/master/Lista_6.ipynb\" target=\"_parent\"><img src=\"https://colab.research.google.com/assets/colab-badge.svg\" alt=\"Open In Colab\"/></a>"
      ]
    },
    {
      "cell_type": "code",
      "metadata": {
        "colab": {
          "base_uri": "https://localhost:8080/",
          "height": 86
        },
        "id": "G_LmfkWMyDR3",
        "outputId": "04a3b5a1-b928-49a0-e430-9ccd03bba093"
      },
      "source": [
        "# Disciplina: Probabilidade e Estatística\n",
        "# Aluno: Lucas Steinhorst\n",
        "# Lista 6\n",
        "\n",
        "# Ex 1:\n",
        "\n",
        "#Barbetta (2001, p.286). Com o objetivo de verificar se existe correlação \n",
        "#positiva entre aptidão em matemática e aptidão\n",
        "#em música, foi selecionado um grupo de crianças de 8 a 10 anos de idade, \n",
        "#que foram submetidas a dois testes de\n",
        "#aptidão: um de matemática e outro de música. A ordem da aplicação dos testes \n",
        "#em cada criança foi aleatória. Os dados estão relacionados na Tabela 2 \n",
        "#Faça o cálculo do coeficiente r e confira o resultado encontrado \n",
        "\n",
        "import pandas as pd\n",
        "Dados = { 'matemática':[60, 58, 73, 51, 54, 75, 48, 72, 75, 83, 62, 52],\n",
        "           'música':[80, 62, 70, 83, 62, 92, 79, 88, 54, 82, 64, 69]}\n",
        "x = pd.DataFrame(Dados, columns=['matemática','música'])  #matrix e calculo da correlação\n",
        "corrMatrix = x.corr()\n",
        "print(corrMatrix) \n",
        "'''o resultado apresenta uma correlação entre música e matemática de 0.169146\n",
        "considerada desprezível'''"
      ],
      "execution_count": 75,
      "outputs": [
        {
          "output_type": "stream",
          "text": [
            "            matemática    música\n",
            "matemática    1.000000  0.169146\n",
            "música        0.169146  1.000000\n"
          ],
          "name": "stdout"
        },
        {
          "output_type": "execute_result",
          "data": {
            "application/vnd.google.colaboratory.intrinsic+json": {
              "type": "string"
            },
            "text/plain": [
              "'o resultado apresenta uma correlação entre música e matemática de 0.169146\\nconsiderada desprezível'"
            ]
          },
          "metadata": {
            "tags": []
          },
          "execution_count": 75
        }
      ]
    },
    {
      "cell_type": "code",
      "metadata": {
        "id": "0uH-cO_bMJsz"
      },
      "source": [
        "# Ex 2:\n",
        "\n",
        "#Barbetta (2001, p.286). Numa amostra aleatória de n = 12 livros da \n",
        "#Biblioteca Central, encontramos r = 0,207 entre a idade da edição e \n",
        "#o número de páginas do livro.\n",
        "#O que se pode dizer com base no valor deste coeficiente de correlação?\n",
        "''' Como essa correlação está entre 0 e 0.3 é então considerada uma correlação \n",
        "desprezível''' \n"
      ],
      "execution_count": null,
      "outputs": []
    },
    {
      "cell_type": "code",
      "metadata": {
        "colab": {
          "base_uri": "https://localhost:8080/",
          "height": 86
        },
        "id": "_mI80UJJTbq5",
        "outputId": "c99a2756-1f4f-494f-c846-1146b989c764"
      },
      "source": [
        "# Ex 3:\n",
        "\n",
        "#Dados o tempo de serviço de 10 funcionários de uma companhia de seguros e \n",
        "#o número de clientes que cada um possui, verifique se existe uma associação \n",
        "#entre estas variáveis:\n",
        "#Calcule e interprete o coeficiente de correlação. \n",
        "\n",
        "import pandas as pd\n",
        "Dados = {'AnosdeServiço':[2, 3, 4, 5, 4, 6, 7, 8, 8, 10],\n",
        "           'Nclientes':[48, 50, 56, 52, 43, 60, 62, 58, 64, 72]}\n",
        "x = pd.DataFrame(Dados, columns=['AnosdeServiço','Nclientes']) #matrix e calculo da correlação\n",
        "corrMatrix = x.corr()\n",
        "print(corrMatrix) \n",
        "\n",
        "'''A correlação entre anos de serviço e nº de clientes é de 0.876795 e é \n",
        "considerada uma correlação forte, pois está entre 0.7 e 0.9.'''"
      ],
      "execution_count": 76,
      "outputs": [
        {
          "output_type": "stream",
          "text": [
            "               AnosdeServiço  Nclientes\n",
            "AnosdeServiço       1.000000   0.876795\n",
            "Nclientes           0.876795   1.000000\n"
          ],
          "name": "stdout"
        },
        {
          "output_type": "execute_result",
          "data": {
            "application/vnd.google.colaboratory.intrinsic+json": {
              "type": "string"
            },
            "text/plain": [
              "'A correlação entre anos de serviço e nº de clientes é de 0.876795 e é \\nconsiderada uma correlação forte, pois está entre 0.7 e 0.9.'"
            ]
          },
          "metadata": {
            "tags": []
          },
          "execution_count": 76
        }
      ]
    },
    {
      "cell_type": "code",
      "metadata": {
        "colab": {
          "base_uri": "https://localhost:8080/",
          "height": 86
        },
        "id": "hlWmK0gvXxLT",
        "outputId": "cc01bf68-44f5-435e-9657-20f1ec2d467e"
      },
      "source": [
        "# Ex 4:\n",
        "\n",
        "#Numa pesquisa feita com 10 famílias com renda bruta mensal entre 10 e 60 \n",
        "#salários mínimos, mediram-se: X: renda bruta mensal (expressa em números de \n",
        "#salários mínimos) e Y: a porcentagem da renda bruta anual gasta com\n",
        "#assistência médica. \n",
        "#Calcule o coeficiente de correlação. \n",
        "\n",
        "import pandas as pd\n",
        "Dados = {'x':[12, 16, 18, 20, 28, 30, 40, 48, 50, 54],\n",
        "         'y':[7.2, 7.4, 7.0, 6.5, 6.6, 6.7, 6.0, 5.6, 6.0, 5.5]}\n",
        "x = pd.DataFrame(Dados, columns=['x','y']) #matrix e calculo da correlação\n",
        "corrMatrix = x.corr()\n",
        "print(corrMatrix) \n",
        "'''A correlação entre x e y é de -0.940463, considerada negativa muito forte, \n",
        "ou seja, quanto maior a renda bruta mensal, menor a porcentagem da renda bruta anual gasta com\n",
        "assistência médica.'''"
      ],
      "execution_count": 77,
      "outputs": [
        {
          "output_type": "stream",
          "text": [
            "          x         y\n",
            "x  1.000000 -0.940463\n",
            "y -0.940463  1.000000\n"
          ],
          "name": "stdout"
        },
        {
          "output_type": "execute_result",
          "data": {
            "application/vnd.google.colaboratory.intrinsic+json": {
              "type": "string"
            },
            "text/plain": [
              "'A correlação entre x e y é de -0.940463, considerada muito forte negativa'"
            ]
          },
          "metadata": {
            "tags": []
          },
          "execution_count": 77
        }
      ]
    },
    {
      "cell_type": "code",
      "metadata": {
        "id": "cCO_jLQQag2J",
        "colab": {
          "base_uri": "https://localhost:8080/"
        },
        "outputId": "d56af934-7cc1-4179-eb59-a9a7f89b4812"
      },
      "source": [
        "# Ex 5:\n",
        "\n",
        "#Os quatro conjuntos de dados a seguir foram preparados pelo estatístico \n",
        "#F. J. Anscombe e são usados com freqüência em aulas sobre correlação. \n",
        "#Calcule a média e o desvio padrão para cada conjunto de dados. \n",
        "#Calcule o coeficiente de correlação para cada conjunto de dados. \n",
        "\n",
        "import pandas as pd\n",
        "import statistics\n",
        "Conj_1 = {'x':[10,8,13,9,11,14,6,4,12,7,5],\n",
        "         'y':[8.04,6.95,7.58,8.81,8.33,9.96,7.24,4.26,10.84,4.82,5.68]}\n",
        "\n",
        "Conj_2 = {'x':[10,8,13,9,11,14,6,4,12,7,5],\n",
        "         'y':[9.14,8.14,8.74,8.77,9.26,8.10,6.13,3.10,9.13,7.26,4.74]}\n",
        "\n",
        "Conj_3 = {'x':[10,8,13,9,11,14,6,4,12,7,5],\n",
        "         'y':[7.46,6.77,12.74,7.11,7.81,8.84,6.08,5.39,8.15,6.42,5.73]}\n",
        "\n",
        "Conj_4 = {'x':[8,8,8,8,8,8,8,19,8,8,8],\n",
        "         'y':[6.58,5.76,7.71,8.84,8.47,7.04,5.25,12.50,5.56,7.91,6.89]}   \n",
        "\n",
        "a = pd.DataFrame(Conj_1, columns=['x','y']) #matrix e calculo da correlação\n",
        "b = pd.DataFrame(Conj_2, columns=['x','y'])\n",
        "c = pd.DataFrame(Conj_3, columns=['x','y'])\n",
        "d = pd.DataFrame(Conj_4, columns=['x','y'])\n",
        "corrMatrix_a = a.corr()\n",
        "corrMatrix_b = b.corr()\n",
        "corrMatrix_c = c.corr()\n",
        "corrMatrix_d = d.corr()\n",
        "print(\"conjunto 1:\\n\", corrMatrix_a) \n",
        "print(\"conjunto 2:\\n\", corrMatrix_b) \n",
        "print(\"conjunto 3:\\n\", corrMatrix_c) \n",
        "print(\"conjunto 4:\\n\", corrMatrix_d)\n",
        "\n",
        "lista1 = Conj_1.get('x')     #aqui eu junto as listas de cada conjunto em uma lista só pra calcular a média\n",
        "lista1.extend(Conj_1.get('y','x'))\n",
        "lista2 = Conj_2.get('x')\n",
        "lista2.extend(Conj_2.get('y','x'))\n",
        "lista3 = Conj_3.get('x')\n",
        "lista3.extend(Conj_3.get('y','x'))\n",
        "lista4 = Conj_4.get('x')\n",
        "lista4.extend(Conj_4.get('y','x'))\n",
        "print(' ')\n",
        "Media1 = statistics.mean(lista1) #médias\n",
        "Media2 = statistics.mean(lista2)\n",
        "Media3 = statistics.mean(lista3)\n",
        "Media4 = statistics.mean(lista4)\n",
        "print( 'A media do primeiro conjunto é:', round(Media1,3))\n",
        "print( 'A media do segundo conjunto é:', round(Media2,3))\n",
        "print( 'A media do terceiro conjunto é:', round(Media3,3))\n",
        "print( 'A media do quarto conjunto é:', round(Media4,3))\n",
        "Desv1 = statistics.stdev(lista1) #desvio padrão\n",
        "Desv2 = statistics.stdev(lista2)\n",
        "Desv3 = statistics.stdev(lista3)\n",
        "Desv4 = statistics.stdev(lista4)\n",
        "print(' ')\n",
        "print('O Desvio Padrão do primeiro conjunto é:', round(Desv1,2))\n",
        "print('O Desvio Padrão do segundo conjunto é:', round(Desv2,2))\n",
        "print('O Desvio Padrão do terceiro conjunto é:', round(Desv3,2))\n",
        "print('O Desvio Padrão do quarto conjunto é:', round(Desv4,2))\n"
      ],
      "execution_count": 53,
      "outputs": [
        {
          "output_type": "stream",
          "text": [
            "conjunto 1:\n",
            "           x         y\n",
            "x  1.000000  0.816421\n",
            "y  0.816421  1.000000\n",
            "conjunto 2:\n",
            "           x         y\n",
            "x  1.000000  0.816237\n",
            "y  0.816237  1.000000\n",
            "conjunto 3:\n",
            "           x         y\n",
            "x  1.000000  0.816287\n",
            "y  0.816287  1.000000\n",
            "conjunto 4:\n",
            "           x         y\n",
            "x  1.000000  0.816521\n",
            "y  0.816521  1.000000\n",
            " \n",
            "A media do primeiro conjunto é: 8.25\n",
            "A media do segundo conjunto é: 8.25\n",
            "A media do terceiro conjunto é: 8.25\n",
            "A media do quarto conjunto é: 8.25\n",
            " \n",
            "O Desvio Padrão do primeiro conjunto é: 2.79\n",
            "O Desvio Padrão do segundo conjunto é: 2.79\n",
            "O Desvio Padrão do terceiro conjunto é: 2.79\n",
            "O Desvio Padrão do quarto conjunto é: 2.79\n"
          ],
          "name": "stdout"
        }
      ]
    },
    {
      "cell_type": "code",
      "metadata": {
        "colab": {
          "base_uri": "https://localhost:8080/",
          "height": 256
        },
        "id": "i0-zUB_y-FSf",
        "outputId": "83497504-1570-4309-eb45-e66fac15bdf1"
      },
      "source": [
        "# Ex 6:\n",
        "\n",
        "#Uma empresa que produz bens de alta tecnologia está preocupada com a \n",
        "#produtividade de funcionários que exercem funções repetitivas e procura \n",
        "#descobrir como algumas variáveis podem influenciar no rendimento dessas pessoas. \n",
        "#Para isso implementa em cada uma de suas três fábricas um programa específico: \n",
        "#alimentação especial sugerida pelos nutricionistas; intervalos para exercícios \n",
        "#de relaxamento sugerido pelos fisioterapeutas; rodízio de funções sugerido\n",
        "#pelos psicólogos. A tabela a seguir mostra o resultado da produtividade para \n",
        "#diversos níveis implementados no programa.\n",
        "#Calcule o coeficiente de correlação linear de Pearson nos três casos. \n",
        "#O coeficiente confirma a impressão visual dos diagramas? \n",
        "import pandas as pd\n",
        "\n",
        "#agora a correlação entre produtividade e as 3 variaveis implementadas.\n",
        "\n",
        "Dados_a = {'Produtividade':[100, 102, 105, 108, 112, 120],\n",
        "           'Alimentação':[4, 5, 1, 3, 6, 2]}\n",
        "Dados_b = {'Produtividade':[100, 102, 105, 108, 112, 120],\n",
        "         'Exercícios':[1, 3, 2, 4, 5, 6]}\n",
        "Dados_c = {'Produtividade':[100, 102, 105, 108, 112, 120],\n",
        "         'Rodízio':[3, 1, 2, 6, 4, 5]}                  \n",
        "x1 = pd.DataFrame(Dados_a, columns=['Alimentação','Produtividade']) #matrix e calculo da correlação\n",
        "corrMatrix1 = x1.corr()\n",
        "print(corrMatrix1)\n",
        "print(' ')\n",
        "x2 = pd.DataFrame(Dados_b, columns=['Exercícios','Produtividade']) #matrix e calculo da correlação\n",
        "corrMatrix2 = x2.corr()\n",
        "print(corrMatrix2)\n",
        "print(' ')\n",
        "x3 = pd.DataFrame(Dados_c, columns=['Rodízio','Produtividade']) #matrix e calculo da correlação\n",
        "corrMatrix3 = x3.corr()\n",
        "print(corrMatrix3)\n",
        "\n",
        "''' Bem, na tabela é difícil ver essa correlação mas notamos uma correlação \n",
        "desprezível entre alimentação e produtividade, uma correlação muito forte entre \n",
        "produtividade e exercícios e uma correlação  moderada entre produtividade e \n",
        "rodízio. Ou seja, o melhor para a produtividade são os exercícios'''\n",
        "\n"
      ],
      "execution_count": 78,
      "outputs": [
        {
          "output_type": "stream",
          "text": [
            "               Alimentação  Produtividade\n",
            "Alimentação       1.000000      -0.196822\n",
            "Produtividade    -0.196822       1.000000\n",
            " \n",
            "               Exercícios  Produtividade\n",
            "Exercícios       1.000000       0.925791\n",
            "Produtividade    0.925791       1.000000\n",
            " \n",
            "                Rodízio  Produtividade\n",
            "Rodízio        1.000000       0.634204\n",
            "Produtividade  0.634204       1.000000\n"
          ],
          "name": "stdout"
        },
        {
          "output_type": "execute_result",
          "data": {
            "application/vnd.google.colaboratory.intrinsic+json": {
              "type": "string"
            },
            "text/plain": [
              "' Bem, na tabela é difícil ver essa correlação mas notamos uma correlação \\ndesprezível entre alimentação e produtividade, uma correlação muito forte entre \\nprodutividade e exercícios e uma correlação  moderada entre produtividade e \\nrodízio. Ou seja, o melhor para a produtividade são os exercícios'"
            ]
          },
          "metadata": {
            "tags": []
          },
          "execution_count": 78
        }
      ]
    }
  ]
}